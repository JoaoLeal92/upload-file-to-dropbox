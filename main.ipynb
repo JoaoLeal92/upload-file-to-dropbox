{
 "cells": [
  {
   "cell_type": "code",
   "execution_count": 41,
   "metadata": {},
   "outputs": [],
   "source": [
    "import dropbox\n",
    "from glob import glob\n",
    "import os\n",
    "from dotenv import load_dotenv"
   ]
  },
  {
   "cell_type": "code",
   "execution_count": 49,
   "metadata": {},
   "outputs": [
    {
     "data": {
      "text/plain": [
       "True"
      ]
     },
     "execution_count": 49,
     "metadata": {},
     "output_type": "execute_result"
    }
   ],
   "source": [
    "load_dotenv()"
   ]
  },
  {
   "cell_type": "code",
   "execution_count": 2,
   "metadata": {},
   "outputs": [],
   "source": [
    "dbx = dropbox.Dropbox(os.getenv(\"dbx_token\"))"
   ]
  },
  {
   "cell_type": "code",
   "execution_count": 50,
   "metadata": {},
   "outputs": [],
   "source": [
    "origin_path = os.getenv(\"origin_path\")\n",
    "destination = os.getenv(\"destination\")"
   ]
  },
  {
   "cell_type": "code",
   "execution_count": 54,
   "metadata": {},
   "outputs": [],
   "source": [
    "# Buscar nome do arquivo mais recente para enviar\n",
    "list_of_files = glob(os.path.join(origin_path, \"*.sql\"))\n",
    "latest_file = max(list_of_files, key=os.path.getctime)"
   ]
  },
  {
   "cell_type": "code",
   "execution_count": 55,
   "metadata": {},
   "outputs": [
    {
     "data": {
      "text/plain": [
       "'/home/joao/Documents/teste_backup_download/dump_07-09-2021_00_54_57.sql'"
      ]
     },
     "execution_count": 55,
     "metadata": {},
     "output_type": "execute_result"
    }
   ],
   "source": [
    "latest_file"
   ]
  },
  {
   "cell_type": "code",
   "execution_count": 53,
   "metadata": {},
   "outputs": [],
   "source": [
    "# Verificar se o arquivo já está contido no diretório de destino\n",
    "dbx_files = [file.name for file in dbx.files_list_folder('/db_backup').entries]\n",
    "if os.path.basename(latest_file) not in dbx_files:\n",
    "    # Enviar arquivo, caso ainda não exista\n",
    "    print(\"ENVIA ARQUIVO PRO DROPBOX\")\n",
    "    with open(latest_file, \"rb\") as f:\n",
    "        content = f.read()\n",
    "        dbx.files_upload(content, os.path.join(destination, os.path.basename(latest_file)))"
   ]
  }
 ],
 "metadata": {
  "interpreter": {
   "hash": "961557bee5c6428a44a233ac2302200adf5e6b389a10cd83dd3d68a73069a4ce"
  },
  "kernelspec": {
   "display_name": "Python 3.8.10 64-bit ('backup_files_on_dropbox-Sc_TzMdz': pipenv)",
   "language": "python",
   "name": "python3"
  },
  "language_info": {
   "codemirror_mode": {
    "name": "ipython",
    "version": 3
   },
   "file_extension": ".py",
   "mimetype": "text/x-python",
   "name": "python",
   "nbconvert_exporter": "python",
   "pygments_lexer": "ipython3",
   "version": "3.8.10"
  },
  "orig_nbformat": 4
 },
 "nbformat": 4,
 "nbformat_minor": 2
}
